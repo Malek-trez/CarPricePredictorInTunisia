{
 "cells": [
  {
   "cell_type": "code",
   "execution_count": 89,
   "metadata": {},
   "outputs": [],
   "source": [
    "import pandas as pd\n",
    "from datetime import datetime"
   ]
  },
  {
   "cell_type": "code",
   "execution_count": 90,
   "metadata": {},
   "outputs": [],
   "source": [
    "file_path_Automobiletn_Neuf = r'C:\\Users\\TP\\Desktop\\CarPricePredictorInTunisia\\Data\\Automobiletn_Neuf_Data.csv'\n",
    "file_path_Automobiletn_Occasion = r'C:\\Users\\TP\\Desktop\\CarPricePredictorInTunisia\\Data\\Automobiletn_Occasion_Data.csv'\n",
    "file_path_Tayara = r'C:\\Users\\TP\\Desktop\\CarPricePredictorInTunisia\\Data\\cleaned_vehicle_data.csv'\n",
    "file_path_resultat = r'C:\\Users\\TP\\Desktop\\CarPricePredictorInTunisia\\Data\\CleanedData2.csv'\n",
    "\n",
    "df_Auto_Neuf = pd.read_csv(file_path_Automobiletn_Neuf)\n",
    "df_Auto_occa = pd.read_csv(file_path_Automobiletn_Occasion)\n",
    "df_Tayara = pd.read_csv(file_path_Tayara)"
   ]
  },
  {
   "cell_type": "code",
   "execution_count": 91,
   "metadata": {},
   "outputs": [
    {
     "name": "stdout",
     "output_type": "stream",
     "text": [
      "      Price  Kilométrage Boite vitesse    year  Cylindrée       Brand  \\\n",
      "0     37500      43000.0   automatique  2015.0     1200.0         Kia   \n",
      "1     27000      95000.0      manuelle  2019.0     4000.0     Citroen   \n",
      "2     39700      84200.0      manuelle  2021.0     1200.0  Volkswagen   \n",
      "4     38000     142000.0      manuelle  2021.0     1300.0        Fiat   \n",
      "5     58000      84000.0      manuelle  2019.0     1500.0     Renault   \n",
      "...     ...          ...           ...     ...        ...         ...   \n",
      "3322  38000     144900.0   automatique  2012.0     3000.0   Ssangyong   \n",
      "3323  50000     112500.0      manuelle  2012.0     1600.0      Autres   \n",
      "3324  18000     199000.0      manuelle  2002.0     2400.0     Peugeot   \n",
      "3325  35000     299000.0      manuelle  2013.0     1600.0     Citroen   \n",
      "3326  40000      30200.0      manuelle  2022.0     1200.0  Mitsubishi   \n",
      "\n",
      "         Model  power  Energie  \n",
      "0      Picanto    5.0  essence  \n",
      "1     C-Elysée    5.0  essence  \n",
      "2         Polo    4.0  essence  \n",
      "4      Fiorino    5.0   diesel  \n",
      "5       Megane    5.0   diesel  \n",
      "...        ...    ...      ...  \n",
      "3322     Kyron   10.0   diesel  \n",
      "3323    Autres    7.0  essence  \n",
      "3324       206    4.0  essence  \n",
      "3325        C4    5.0   diesel  \n",
      "3326    Canter    4.0  essence  \n",
      "\n",
      "[2740 rows x 9 columns]\n"
     ]
    }
   ],
   "source": [
    "#small clean\n",
    "\n",
    "df_Tayara = df_Tayara[df_Tayara['Kilométrage'] >= 1000]\n",
    "df_Tayara['Cylindrée'] = df_Tayara['Cylindrée']*1000\n",
    "print(df_Tayara)"
   ]
  },
  {
   "cell_type": "code",
   "execution_count": 92,
   "metadata": {},
   "outputs": [],
   "source": [
    "df_Auto_Neuf['Kilométrage'] = 0\n",
    "df_Auto_Neuf['Age'] = 0"
   ]
  },
  {
   "cell_type": "code",
   "execution_count": 93,
   "metadata": {},
   "outputs": [
    {
     "name": "stdout",
     "output_type": "stream",
     "text": [
      "0     7.2011\n",
      "1     6.1998\n",
      "2    12.2011\n",
      "3     1.2017\n",
      "4    11.2019\n",
      "5    11.2012\n",
      "6     5.2021\n",
      "7     1.2020\n",
      "8     5.2015\n",
      "9     4.2022\n",
      "Name: Mise en circulation, dtype: float64\n",
      "--------\n",
      "0    2011-07-01\n",
      "1    1998-06-01\n",
      "2    2011-12-01\n",
      "3    2017-01-01\n",
      "4    2019-11-01\n",
      "5    2012-11-01\n",
      "6    2021-05-01\n",
      "8    2015-05-01\n",
      "9    2022-04-01\n",
      "10   2022-01-01\n",
      "Name: Mise en circulation, dtype: datetime64[ns]\n",
      "--------\n",
      "0     13\n",
      "1     26\n",
      "2     13\n",
      "3      7\n",
      "4      5\n",
      "5     12\n",
      "6      3\n",
      "8      9\n",
      "9      2\n",
      "10     2\n",
      "Name: Age, dtype: int64\n"
     ]
    }
   ],
   "source": [
    "#convertire Mise en circulation en Age\n",
    "print(df_Auto_occa['Mise en circulation'][:10])\n",
    "\n",
    "df_Auto_occa['Mise en circulation'] = df_Auto_occa['Mise en circulation'].astype(str)\n",
    "\n",
    "df_Auto_occa = df_Auto_occa[df_Auto_occa['Mise en circulation'].str.match(r'^\\d{1,2}\\.\\d{4}$')]\n",
    "\n",
    "df_Auto_occa['Mise en circulation']= pd.to_datetime(df_Auto_occa['Mise en circulation'], format='%m.%Y')\n",
    "\n",
    "print(\"--------\")\n",
    "\n",
    "print(df_Auto_occa['Mise en circulation'][:10])\n",
    "\n",
    "df_Auto_occa.rename(columns={'Mise en circulation': 'Age'}, inplace=True)\n",
    "df_Auto_occa['Age'] = (pd.to_datetime('today') - df_Auto_occa['Age']).dt.days // 365\n",
    "print(\"--------\")\n",
    "print(df_Auto_occa['Age'][:10])"
   ]
  },
  {
   "cell_type": "code",
   "execution_count": 94,
   "metadata": {},
   "outputs": [
    {
     "name": "stdout",
     "output_type": "stream",
     "text": [
      "0       2015.0\n",
      "1       2019.0\n",
      "2       2021.0\n",
      "4       2021.0\n",
      "5       2019.0\n",
      "         ...  \n",
      "3322    2012.0\n",
      "3323    2012.0\n",
      "3324    2002.0\n",
      "3325    2013.0\n",
      "3326    2022.0\n",
      "Name: year, Length: 2740, dtype: float64\n",
      "       Age\n",
      "0      9.0\n",
      "1      5.0\n",
      "2      3.0\n",
      "4      3.0\n",
      "5      5.0\n",
      "...    ...\n",
      "3322  12.0\n",
      "3323  12.0\n",
      "3324  22.0\n",
      "3325  11.0\n",
      "3326   2.0\n",
      "\n",
      "[2740 rows x 1 columns]\n",
      "float64\n"
     ]
    }
   ],
   "source": [
    "print(df_Tayara['year'])\n",
    "\n",
    "current_year = datetime.now().year  # Get the current year (2024)\n",
    "\n",
    "# Subtract each year in the 'year' column from the current year\n",
    "df_Tayara['Age'] = current_year - df_Tayara['year']\n",
    "\n",
    "# Print the new 'age' column\n",
    "print(df_Tayara[['Age']])\n",
    "\n",
    "print(df_Tayara['Age'].dtype)"
   ]
  },
  {
   "cell_type": "code",
   "execution_count": 95,
   "metadata": {},
   "outputs": [
    {
     "name": "stdout",
     "output_type": "stream",
     "text": [
      "Index(['Brand', 'Model', 'Price', '0-100 Km/h', '4 roues directrices', 'ABS',\n",
      "       'Accoudoirs', 'Affichage tête haute', 'Aide au démarrage en côte',\n",
      "       'Aide au maintien dans la voie',\n",
      "       ...\n",
      "       'Vitres électriques', 'Voiture populaire', 'Volant', 'Volant réglable',\n",
      "       'Volume du coffre', 'Volume du coffre avant',\n",
      "       'Volume du coffre maximal', 'Volume utile', 'Kilométrage', 'Age'],\n",
      "      dtype='object', length=157)\n",
      "------\n",
      "Index(['Brand', 'Model', 'Price', 'Boite vitesse', 'Carrosserie',\n",
      "       'Couleur extérieure', 'Couleur intérieure', 'Cylindrée', 'Gouvernorat',\n",
      "       'Génération', 'Kilométrage', 'Age', 'Moteur', 'Nombre de places',\n",
      "       'Nombre de portes', 'Puissance', 'Puissance cumulée',\n",
      "       'Puissance fiscale', 'Puissance thermique', 'Sellerie', 'Transmission',\n",
      "       'Énergie'],\n",
      "      dtype='object')\n",
      "------\n",
      "Index(['Price', 'Kilométrage', 'Boite vitesse', 'year', 'Cylindrée', 'Brand',\n",
      "       'Model', 'power', 'Energie', 'Age'],\n",
      "      dtype='object')\n"
     ]
    }
   ],
   "source": [
    "print(df_Auto_Neuf.columns)\n",
    "print(\"------\")\n",
    "print(df_Auto_occa.columns)\n",
    "print(\"------\")\n",
    "print(df_Tayara .columns)"
   ]
  },
  {
   "cell_type": "code",
   "execution_count": 96,
   "metadata": {},
   "outputs": [],
   "source": [
    "df_Auto_occa.rename(columns={'Énergie': 'Energie'}, inplace=True)\n",
    "df_Auto_Neuf.rename(columns={'Boîte': 'Boite vitesse'}, inplace=True)\n",
    "df_Tayara.rename(columns={'power': 'Puissance fiscale'}, inplace=True)\n"
   ]
  },
  {
   "cell_type": "code",
   "execution_count": 97,
   "metadata": {},
   "outputs": [],
   "source": [
    "df_Auto_Neuf.drop(df_Auto_Neuf.columns.difference(['Brand', 'Model', 'Price', 'Boite vitesse', 'Cylindrée',\n",
    "'Energie','Puissance fiscale','Kilométrage', 'Age']),axis=1, inplace=True)\n",
    "df_Auto_occa.drop(df_Auto_occa.columns.difference(['Brand', 'Model', 'Price', 'Boite vitesse', 'Cylindrée',\n",
    "'Energie','Puissance fiscale','Kilométrage', 'Age']),axis=1, inplace=True)\n",
    "df_Tayara.drop(df_Tayara.columns.difference(['Brand', 'Model', 'Price', 'Boite vitesse', 'Cylindrée',\n",
    "'Energie','Puissance fiscale','Kilométrage', 'Age']),axis=1, inplace=True)\n",
    "\n"
   ]
  },
  {
   "cell_type": "code",
   "execution_count": 98,
   "metadata": {},
   "outputs": [
    {
     "name": "stdout",
     "output_type": "stream",
     "text": [
      "(1757, 9)\n",
      "----------\n",
      "(449, 9)\n",
      "----------\n",
      "(2740, 9)\n"
     ]
    }
   ],
   "source": [
    "print(df_Auto_occa.shape)\n",
    "print(\"----------\")\n",
    "print(df_Auto_Neuf.shape)\n",
    "print(\"----------\")\n",
    "print(df_Tayara.shape)"
   ]
  },
  {
   "cell_type": "code",
   "execution_count": 99,
   "metadata": {},
   "outputs": [
    {
     "name": "stdout",
     "output_type": "stream",
     "text": [
      "           Brand         Model         Price Boite vitesse Cylindrée  Energie  \\\n",
      "0     alfa-romeo        giulia  198 000DTTTC   Automatique   1995CM³  Essence   \n",
      "1     alfa-romeo       stelvio  265 000DTTTC   Automatique   1995CM³  Essence   \n",
      "2           audi  a3-sportback  145 000DTTTC   Automatique   1395CM³  Essence   \n",
      "3           audi    a3-berline  149 000DTTTC   Automatique   1395CM³  Essence   \n",
      "4           audi            a4  198 000DTTTC   Automatique   1984CM³  Essence   \n",
      "...          ...           ...           ...           ...       ...      ...   \n",
      "4941   Ssangyong         Kyron         38000   automatique    3000.0   diesel   \n",
      "4942      Autres        Autres         50000      manuelle    1600.0  essence   \n",
      "4943     Peugeot           206         18000      manuelle    2400.0  essence   \n",
      "4944     Citroen            C4         35000      manuelle    1600.0   diesel   \n",
      "4945  Mitsubishi        Canter         40000      manuelle    1200.0  essence   \n",
      "\n",
      "     Puissance fiscale Kilométrage   Age  \n",
      "0                 11CV           0   0.0  \n",
      "1                 17CV           0   0.0  \n",
      "2                  8CV           0   0.0  \n",
      "3                  8CV           0   0.0  \n",
      "4                  8CV           0   0.0  \n",
      "...                ...         ...   ...  \n",
      "4941              10.0    144900.0  12.0  \n",
      "4942               7.0    112500.0  12.0  \n",
      "4943               4.0    199000.0  22.0  \n",
      "4944               5.0    299000.0  11.0  \n",
      "4945               4.0     30200.0   2.0  \n",
      "\n",
      "[4946 rows x 9 columns]\n"
     ]
    }
   ],
   "source": [
    "df_concat = pd.concat([df_Auto_Neuf,df_Auto_occa])\n",
    "df_concat = pd.concat([df_concat,df_Tayara])\n",
    "\n",
    "df_concat = df_concat.reset_index(drop=True)\n",
    "\n",
    "print(df_concat)"
   ]
  },
  {
   "cell_type": "code",
   "execution_count": 100,
   "metadata": {},
   "outputs": [
    {
     "data": {
      "text/html": [
       "<div>\n",
       "<style scoped>\n",
       "    .dataframe tbody tr th:only-of-type {\n",
       "        vertical-align: middle;\n",
       "    }\n",
       "\n",
       "    .dataframe tbody tr th {\n",
       "        vertical-align: top;\n",
       "    }\n",
       "\n",
       "    .dataframe thead th {\n",
       "        text-align: right;\n",
       "    }\n",
       "</style>\n",
       "<table border=\"1\" class=\"dataframe\">\n",
       "  <thead>\n",
       "    <tr style=\"text-align: right;\">\n",
       "      <th></th>\n",
       "      <th>Brand</th>\n",
       "      <th>Model</th>\n",
       "      <th>Price</th>\n",
       "      <th>Boite vitesse</th>\n",
       "      <th>Cylindrée</th>\n",
       "      <th>Energie</th>\n",
       "      <th>Puissance fiscale</th>\n",
       "      <th>Kilométrage</th>\n",
       "      <th>Age</th>\n",
       "    </tr>\n",
       "  </thead>\n",
       "  <tbody>\n",
       "    <tr>\n",
       "      <th>0</th>\n",
       "      <td>alfa-romeo</td>\n",
       "      <td>giulia</td>\n",
       "      <td>198 000DTTTC</td>\n",
       "      <td>Automatique</td>\n",
       "      <td>1995CM³</td>\n",
       "      <td>Essence</td>\n",
       "      <td>11CV</td>\n",
       "      <td>0</td>\n",
       "      <td>0.0</td>\n",
       "    </tr>\n",
       "    <tr>\n",
       "      <th>1</th>\n",
       "      <td>alfa-romeo</td>\n",
       "      <td>stelvio</td>\n",
       "      <td>265 000DTTTC</td>\n",
       "      <td>Automatique</td>\n",
       "      <td>1995CM³</td>\n",
       "      <td>Essence</td>\n",
       "      <td>17CV</td>\n",
       "      <td>0</td>\n",
       "      <td>0.0</td>\n",
       "    </tr>\n",
       "    <tr>\n",
       "      <th>2</th>\n",
       "      <td>audi</td>\n",
       "      <td>a3-sportback</td>\n",
       "      <td>145 000DTTTC</td>\n",
       "      <td>Automatique</td>\n",
       "      <td>1395CM³</td>\n",
       "      <td>Essence</td>\n",
       "      <td>8CV</td>\n",
       "      <td>0</td>\n",
       "      <td>0.0</td>\n",
       "    </tr>\n",
       "    <tr>\n",
       "      <th>3</th>\n",
       "      <td>audi</td>\n",
       "      <td>a3-berline</td>\n",
       "      <td>149 000DTTTC</td>\n",
       "      <td>Automatique</td>\n",
       "      <td>1395CM³</td>\n",
       "      <td>Essence</td>\n",
       "      <td>8CV</td>\n",
       "      <td>0</td>\n",
       "      <td>0.0</td>\n",
       "    </tr>\n",
       "    <tr>\n",
       "      <th>4</th>\n",
       "      <td>audi</td>\n",
       "      <td>a4</td>\n",
       "      <td>198 000DTTTC</td>\n",
       "      <td>Automatique</td>\n",
       "      <td>1984CM³</td>\n",
       "      <td>Essence</td>\n",
       "      <td>8CV</td>\n",
       "      <td>0</td>\n",
       "      <td>0.0</td>\n",
       "    </tr>\n",
       "    <tr>\n",
       "      <th>...</th>\n",
       "      <td>...</td>\n",
       "      <td>...</td>\n",
       "      <td>...</td>\n",
       "      <td>...</td>\n",
       "      <td>...</td>\n",
       "      <td>...</td>\n",
       "      <td>...</td>\n",
       "      <td>...</td>\n",
       "      <td>...</td>\n",
       "    </tr>\n",
       "    <tr>\n",
       "      <th>4941</th>\n",
       "      <td>Ssangyong</td>\n",
       "      <td>Kyron</td>\n",
       "      <td>38000</td>\n",
       "      <td>automatique</td>\n",
       "      <td>3000.0</td>\n",
       "      <td>diesel</td>\n",
       "      <td>10.0</td>\n",
       "      <td>144900.0</td>\n",
       "      <td>12.0</td>\n",
       "    </tr>\n",
       "    <tr>\n",
       "      <th>4942</th>\n",
       "      <td>Autres</td>\n",
       "      <td>Autres</td>\n",
       "      <td>50000</td>\n",
       "      <td>manuelle</td>\n",
       "      <td>1600.0</td>\n",
       "      <td>essence</td>\n",
       "      <td>7.0</td>\n",
       "      <td>112500.0</td>\n",
       "      <td>12.0</td>\n",
       "    </tr>\n",
       "    <tr>\n",
       "      <th>4943</th>\n",
       "      <td>Peugeot</td>\n",
       "      <td>206</td>\n",
       "      <td>18000</td>\n",
       "      <td>manuelle</td>\n",
       "      <td>2400.0</td>\n",
       "      <td>essence</td>\n",
       "      <td>4.0</td>\n",
       "      <td>199000.0</td>\n",
       "      <td>22.0</td>\n",
       "    </tr>\n",
       "    <tr>\n",
       "      <th>4944</th>\n",
       "      <td>Citroen</td>\n",
       "      <td>C4</td>\n",
       "      <td>35000</td>\n",
       "      <td>manuelle</td>\n",
       "      <td>1600.0</td>\n",
       "      <td>diesel</td>\n",
       "      <td>5.0</td>\n",
       "      <td>299000.0</td>\n",
       "      <td>11.0</td>\n",
       "    </tr>\n",
       "    <tr>\n",
       "      <th>4945</th>\n",
       "      <td>Mitsubishi</td>\n",
       "      <td>Canter</td>\n",
       "      <td>40000</td>\n",
       "      <td>manuelle</td>\n",
       "      <td>1200.0</td>\n",
       "      <td>essence</td>\n",
       "      <td>4.0</td>\n",
       "      <td>30200.0</td>\n",
       "      <td>2.0</td>\n",
       "    </tr>\n",
       "  </tbody>\n",
       "</table>\n",
       "<p>4944 rows × 9 columns</p>\n",
       "</div>"
      ],
      "text/plain": [
       "           Brand         Model         Price Boite vitesse Cylindrée  Energie  \\\n",
       "0     alfa-romeo        giulia  198 000DTTTC   Automatique   1995CM³  Essence   \n",
       "1     alfa-romeo       stelvio  265 000DTTTC   Automatique   1995CM³  Essence   \n",
       "2           audi  a3-sportback  145 000DTTTC   Automatique   1395CM³  Essence   \n",
       "3           audi    a3-berline  149 000DTTTC   Automatique   1395CM³  Essence   \n",
       "4           audi            a4  198 000DTTTC   Automatique   1984CM³  Essence   \n",
       "...          ...           ...           ...           ...       ...      ...   \n",
       "4941   Ssangyong         Kyron         38000   automatique    3000.0   diesel   \n",
       "4942      Autres        Autres         50000      manuelle    1600.0  essence   \n",
       "4943     Peugeot           206         18000      manuelle    2400.0  essence   \n",
       "4944     Citroen            C4         35000      manuelle    1600.0   diesel   \n",
       "4945  Mitsubishi        Canter         40000      manuelle    1200.0  essence   \n",
       "\n",
       "     Puissance fiscale Kilométrage   Age  \n",
       "0                 11CV           0   0.0  \n",
       "1                 17CV           0   0.0  \n",
       "2                  8CV           0   0.0  \n",
       "3                  8CV           0   0.0  \n",
       "4                  8CV           0   0.0  \n",
       "...                ...         ...   ...  \n",
       "4941              10.0    144900.0  12.0  \n",
       "4942               7.0    112500.0  12.0  \n",
       "4943               4.0    199000.0  22.0  \n",
       "4944               5.0    299000.0  11.0  \n",
       "4945               4.0     30200.0   2.0  \n",
       "\n",
       "[4944 rows x 9 columns]"
      ]
     },
     "execution_count": 100,
     "metadata": {},
     "output_type": "execute_result"
    }
   ],
   "source": [
    "df_concat.drop_duplicates()"
   ]
  },
  {
   "cell_type": "code",
   "execution_count": 101,
   "metadata": {},
   "outputs": [
    {
     "name": "stdout",
     "output_type": "stream",
     "text": [
      "0    198.0\n",
      "1    265.0\n",
      "2    145.0\n",
      "3    149.0\n",
      "4    198.0\n",
      "Name: Price, dtype: float64\n"
     ]
    }
   ],
   "source": [
    "#we work on price\n",
    "df_concat['Price'] = df_concat['Price'].replace({r'DTTTC': '', r'DT': '', r' ': ''}, regex=True)\n",
    "df_concat['Price'] = pd.to_numeric(df_concat['Price'], errors='coerce')\n",
    "df_concat['Price'] = df_concat['Price'].astype(int)/1000\n",
    "df_concat = df_concat[df_concat['Price'] > 0].dropna(subset=['Price'])\n",
    "\n",
    "print(df_concat['Price'].head())\n"
   ]
  },
  {
   "cell_type": "code",
   "execution_count": 102,
   "metadata": {},
   "outputs": [
    {
     "name": "stdout",
     "output_type": "stream",
     "text": [
      "0       1.995\n",
      "1       1.995\n",
      "2       1.395\n",
      "3       1.395\n",
      "4       1.984\n",
      "        ...  \n",
      "4941    3.000\n",
      "4942    1.600\n",
      "4943    2.400\n",
      "4944    1.600\n",
      "4945    1.200\n",
      "Name: Cylindrée, Length: 4854, dtype: float64\n"
     ]
    }
   ],
   "source": [
    "df_concat['Cylindrée'] = df_concat['Cylindrée'].replace({r'cm³': '', r'CM³': '', r'\\s': ''}, regex=True)\n",
    "df_concat['Cylindrée'] = pd.to_numeric(df_concat['Cylindrée'], errors='coerce')\n",
    "df_concat = df_concat[df_concat['Cylindrée'].notna() & (df_concat['Cylindrée'] != 0)]\n",
    "df_concat['Cylindrée'] = df_concat['Cylindrée'].astype(float)/1000\n",
    "\n",
    "print(df_concat['Cylindrée'])\n"
   ]
  },
  {
   "cell_type": "code",
   "execution_count": 103,
   "metadata": {},
   "outputs": [
    {
     "name": "stdout",
     "output_type": "stream",
     "text": [
      "0       11\n",
      "1       17\n",
      "2        8\n",
      "3        8\n",
      "4        8\n",
      "        ..\n",
      "4941    10\n",
      "4942     7\n",
      "4943     4\n",
      "4944     5\n",
      "4945     4\n",
      "Name: Puissance fiscale, Length: 4854, dtype: object\n",
      "0    11\n",
      "1    17\n",
      "2     8\n",
      "3     8\n",
      "4     8\n",
      "5    11\n",
      "6     8\n",
      "7     9\n",
      "8     9\n",
      "9    16\n",
      "Name: Puissance fiscale, dtype: int32\n",
      "type of 'Puissance fiscale' is int32\n"
     ]
    }
   ],
   "source": [
    "# Step 1: Ensure 'Puissance fiscale' has no non-digit characters and clean the data\n",
    "df_concat['Puissance fiscale'] = df_concat['Puissance fiscale'].apply(lambda x: str(int(x)) if isinstance(x, (int, float)) else x)\n",
    "df_concat['Puissance fiscale'] = df_concat['Puissance fiscale'].str.replace(r'\\D', '', regex=True)\n",
    "print(df_concat['Puissance fiscale'])\n",
    "\n",
    "df_concat = df_concat[df_concat['Puissance fiscale'].str.strip() != '']\n",
    "\n",
    "df_concat['Puissance fiscale'] = pd.to_numeric(df_concat['Puissance fiscale'], errors='coerce')\n",
    "\n",
    "df_concat = df_concat.dropna(subset=['Puissance fiscale'])\n",
    "\n",
    "\n",
    "df_concat['Puissance fiscale'] = df_concat['Puissance fiscale'].astype(int)\n",
    "\n",
    "print(df_concat['Puissance fiscale'][:10])\n",
    "print(\"type of 'Puissance fiscale' is\", df_concat['Puissance fiscale'].dtype)\n"
   ]
  },
  {
   "cell_type": "code",
   "execution_count": 104,
   "metadata": {},
   "outputs": [
    {
     "name": "stdout",
     "output_type": "stream",
     "text": [
      "478     94.0\n",
      "479     89.0\n",
      "480    111.0\n",
      "481    170.0\n",
      "482    125.0\n",
      "483    300.0\n",
      "484     70.0\n",
      "485    132.0\n",
      "486    143.0\n",
      "487     78.0\n",
      "488    144.0\n",
      "Name: Kilométrage, dtype: float64\n",
      "------\n",
      "float64\n"
     ]
    }
   ],
   "source": [
    "df_concat['Kilométrage'] = df_concat['Kilométrage'].replace({r'km': '', r',': ''}, regex=True)\n",
    "\n",
    "df_concat['Kilométrage'] = pd.to_numeric(df_concat['Kilométrage'], errors='coerce')\n",
    "df_concat['Kilométrage'].fillna(0, inplace=True)\n",
    "df_concat['Kilométrage'] = df_concat['Kilométrage'].astype(int)/1000\n",
    "\n",
    "print(df_concat['Kilométrage'][443:454])\n",
    "print('------')\n",
    "print(df_concat['Kilométrage'].dtype)"
   ]
  },
  {
   "cell_type": "code",
   "execution_count": 105,
   "metadata": {},
   "outputs": [
    {
     "name": "stdout",
     "output_type": "stream",
     "text": [
      "           Brand         Model  Price Boite vitesse  Cylindrée  Energie  \\\n",
      "0     alfa-romeo        giulia  198.0   Automatique      1.995  Essence   \n",
      "1     alfa-romeo       stelvio  265.0   Automatique      1.995  Essence   \n",
      "2           audi  a3-sportback  145.0   Automatique      1.395  Essence   \n",
      "3           audi    a3-berline  149.0   Automatique      1.395  Essence   \n",
      "4           audi            a4  198.0   Automatique      1.984  Essence   \n",
      "...          ...           ...    ...           ...        ...      ...   \n",
      "4941   Ssangyong         Kyron   38.0   automatique      3.000   diesel   \n",
      "4942      Autres        Autres   50.0      manuelle      1.600  essence   \n",
      "4943     Peugeot           206   18.0      manuelle      2.400  essence   \n",
      "4944     Citroen            C4   35.0      manuelle      1.600   diesel   \n",
      "4945  Mitsubishi        Canter   40.0      manuelle      1.200  essence   \n",
      "\n",
      "      Puissance fiscale  Kilométrage   Age  \n",
      "0                    11          0.0   0.0  \n",
      "1                    17          0.0   0.0  \n",
      "2                     8          0.0   0.0  \n",
      "3                     8          0.0   0.0  \n",
      "4                     8          0.0   0.0  \n",
      "...                 ...          ...   ...  \n",
      "4941                 10        144.9  12.0  \n",
      "4942                  7        112.5  12.0  \n",
      "4943                  4        199.0  22.0  \n",
      "4944                  5        299.0  11.0  \n",
      "4945                  4         30.2   2.0  \n",
      "\n",
      "[4854 rows x 9 columns]\n"
     ]
    }
   ],
   "source": [
    "print(df_concat)"
   ]
  },
  {
   "cell_type": "code",
   "execution_count": 106,
   "metadata": {},
   "outputs": [
    {
     "name": "stdout",
     "output_type": "stream",
     "text": [
      "Rows with empty or invalid 'Boite vitesse' (NaN):  0\n",
      "['Automatique' 'Manuelle' 'automatique' 'manuelle']\n",
      "-----\n",
      "Manuelle:  2797  ||  Automatic:  2057\n",
      "-------\n",
      "0        True\n",
      "1        True\n",
      "2        True\n",
      "3        True\n",
      "4        True\n",
      "        ...  \n",
      "4941     True\n",
      "4942    False\n",
      "4943    False\n",
      "4944    False\n",
      "4945    False\n",
      "Name: Boite vitesse, Length: 4854, dtype: bool\n",
      "type of Boite vitesse is bool\n"
     ]
    }
   ],
   "source": [
    "# work on Boite vitesse + encoding\n",
    "invalid_rows = df_concat[df_concat['Boite vitesse'].isna()]\n",
    "print(\"Rows with empty or invalid 'Boite vitesse' (NaN): \", len(invalid_rows))\n",
    "df_concat = df_concat.dropna(subset=['Boite vitesse'])\n",
    "unique_values = df_concat['Boite vitesse'].unique()\n",
    "print(unique_values)\n",
    "print(\"-----\")\n",
    "\n",
    "aut = df_concat['Boite vitesse'].value_counts().get('Automatique', 0)\n",
    "aut = aut+df_concat['Boite vitesse'].value_counts().get('automatique', 0)\n",
    "man = df_concat['Boite vitesse'].value_counts().get('Manuelle', 0)\n",
    "man = man + df_concat['Boite vitesse'].value_counts().get('manuelle', 0)\n",
    "print(\"Manuelle: \",man, \" || \",\"Automatic: \", aut)\n",
    "print(\"-------\")\n",
    "\n",
    "df_concat['Boite vitesse'] = df_concat['Boite vitesse'].replace({'automatique': True, 'manuelle': False})\n",
    "df_concat['Boite vitesse'] = df_concat['Boite vitesse'].replace({'Automatique': True, 'Manuelle': False})\n",
    "print(df_concat['Boite vitesse'])\n",
    "print(\"type of Boite vitesse is\",df_concat['Boite vitesse'].dtype)\n"
   ]
  },
  {
   "cell_type": "code",
   "execution_count": 107,
   "metadata": {},
   "outputs": [
    {
     "name": "stdout",
     "output_type": "stream",
     "text": [
      "['Essence' 'Essence | Hybride léger' 'Essence | Hybride rechargeable'\n",
      " 'Diesel' 'Essence | Hybride' 'Diesel | Hybride léger'\n",
      " 'Hybride rechargeable essence' 'Hybride essence' 'Hybride diesel'\n",
      " 'Hybride rechargeable diesel' 'Electrique' 'essence' 'diesel' 'hybride']\n",
      "--------\n",
      "['Essence' 'Hybrid Essence' 'Diesel' 'Hybrid Diesel' 'Electrique' 'Hybrid']\n",
      "-------\n",
      "      Energie  Essence  Diesel  Electric\n",
      "0     Essence     True   False     False\n",
      "1     Essence     True   False     False\n",
      "2     Essence     True   False     False\n",
      "3     Essence     True   False     False\n",
      "4     Essence     True   False     False\n",
      "...       ...      ...     ...       ...\n",
      "4941   Diesel    False    True     False\n",
      "4942  Essence     True   False     False\n",
      "4943  Essence     True   False     False\n",
      "4944   Diesel    False    True     False\n",
      "4945  Essence     True   False     False\n",
      "\n",
      "[4854 rows x 4 columns]\n"
     ]
    }
   ],
   "source": [
    "# work on Energie + encoding\n",
    "print(df_concat['Energie'].unique())\n",
    "print(\"--------\")\n",
    "\n",
    "# Define the mapping dictionary\n",
    "energy_mapping = {\n",
    "    'Essence': 'Essence',\n",
    "    'Essence | Hybride léger': 'Hybrid Essence',\n",
    "    'Electrique': 'Electrique',\n",
    "    'Essence | Hybride rechargeable': 'Hybrid Essence',\n",
    "    'Diesel': 'Diesel',\n",
    "    'Essence | Hybride': 'Hybrid Essence',\n",
    "    'Diesel | Hybride léger': 'Hybrid Diesel',\n",
    "    'Hybride rechargeable essence': 'Hybrid Essence',\n",
    "    'Hybride essence': 'Hybrid Essence',\n",
    "    'Hybride diesel': 'Hybrid Diesel',\n",
    "    'Hybride rechargeable diesel': 'Hybrid Diesel',\n",
    "    'hybride': 'Hybrid',\n",
    "    'diesel': 'Diesel',\n",
    "    'essence': 'Essence',\n",
    "}\n",
    "\n",
    "df_concat['Energie'] = df_concat['Energie'].map(energy_mapping)\n",
    "\n",
    "print(df_concat['Energie'].unique())\n",
    "print(\"-------\")\n",
    "\n",
    "# Create new columns based on the 'Energie' values\n",
    "df_concat['Essence'] = df_concat['Energie'].apply(lambda x: True if 'Essence' in x else False)\n",
    "df_concat['Diesel'] = df_concat['Energie'].apply(lambda x: True if 'Diesel' in x else False)\n",
    "df_concat['Electric'] = df_concat['Energie'].apply(lambda x: True if ('Electric' in x or 'Hybrid' in x) else False)\n",
    "\n",
    "\n",
    "# Check the results\n",
    "print(df_concat[['Energie', 'Essence', 'Diesel', 'Electric']])\n",
    "df_concat = df_concat.drop('Energie', axis=1)"
   ]
  },
  {
   "cell_type": "code",
   "execution_count": 108,
   "metadata": {},
   "outputs": [],
   "source": [
    "def format_brand_model(brand):\n",
    "    brand = brand.lower()\n",
    "    # Split by spaces and handle each word\n",
    "    formatted = \"_\".join([word.capitalize() for word in brand.split(' ')])\n",
    "    formatted = \"_\".join([word.capitalize() for word in formatted.split('-')])\n",
    "    formatted = \"_\".join([word.capitalize() for word in formatted.split('_')])\n",
    "    return formatted\n"
   ]
  },
  {
   "cell_type": "code",
   "execution_count": 109,
   "metadata": {},
   "outputs": [
    {
     "name": "stdout",
     "output_type": "stream",
     "text": [
      "0    Alfa_Romeo\n",
      "1    Alfa_Romeo\n",
      "2          Audi\n",
      "3          Audi\n",
      "4          Audi\n",
      "5          Audi\n",
      "6          Audi\n",
      "7          Audi\n",
      "8          Audi\n",
      "9          Audi\n",
      "Name: Brand, dtype: object\n",
      "Type of Brand is: object\n"
     ]
    }
   ],
   "source": [
    "#we work on Brand\n",
    "df_concat['Brand'] = df_concat['Brand'].apply(format_brand_model)\n",
    "\n",
    "print(df_concat['Brand'][:10])\n",
    "\n",
    "print(\"Type of Brand is:\", df_concat['Brand'].dtype)"
   ]
  },
  {
   "cell_type": "code",
   "execution_count": 110,
   "metadata": {},
   "outputs": [
    {
     "name": "stdout",
     "output_type": "stream",
     "text": [
      "0          Giulia\n",
      "1         Stelvio\n",
      "2    A3_Sportback\n",
      "3      A3_Berline\n",
      "4              A4\n",
      "5              A6\n",
      "6              Q2\n",
      "7              Q3\n",
      "8    Q3_Sportback\n",
      "9              Q7\n",
      "Name: Model, dtype: object\n",
      "Type of Model is: object\n"
     ]
    }
   ],
   "source": [
    "#we work on Model\n",
    "df_concat['Model'] = df_concat['Model'].apply(format_brand_model)\n",
    "\n",
    "print(df_concat['Model'][:10])\n",
    "\n",
    "print(\"Type of Model is:\", df_concat['Model'].dtype)"
   ]
  },
  {
   "cell_type": "code",
   "execution_count": 111,
   "metadata": {},
   "outputs": [
    {
     "name": "stdout",
     "output_type": "stream",
     "text": [
      "       Brand           Model  Price  Boite vitesse  Cylindrée  \\\n",
      "478  Citroën              C3   41.0           True      1.198   \n",
      "479    Honda            City   49.5           True      1.498   \n",
      "480      Kia         Picanto   41.9           True      1.198   \n",
      "481     Fiat             500   26.0          False      1.289   \n",
      "482   Nissan            Juke   48.5           True      1.598   \n",
      "483     Fiat           Siena   18.5          False      1.398   \n",
      "484     Seat         Leon_Sc   49.5          False      1.198   \n",
      "485     Jeep  Grand_Cherokee  180.0           True      3.598   \n",
      "486      Kia          Rio_5p   40.9          False      1.242   \n",
      "\n",
      "     Puissance fiscale  Kilométrage   Age  Essence  Diesel  Electric  \n",
      "478                  6         94.0   7.0     True   False     False  \n",
      "479                  7         89.0   3.0     True   False     False  \n",
      "480                  5        111.0   5.0     True   False     False  \n",
      "481                  4        170.0  13.0     True   False     False  \n",
      "482                  7        125.0   9.0     True   False     False  \n",
      "483                  5        300.0  20.0     True   False     False  \n",
      "484                  6         70.0   8.0     True   False     False  \n",
      "485                 20        132.0   8.0     True   False     False  \n",
      "486                  5        143.0   8.0     True   False     False  \n"
     ]
    }
   ],
   "source": [
    "print(df_concat[443:452])"
   ]
  },
  {
   "cell_type": "code",
   "execution_count": 112,
   "metadata": {},
   "outputs": [
    {
     "name": "stdout",
     "output_type": "stream",
     "text": [
      "Brand                 object\n",
      "Model                 object\n",
      "Price                float64\n",
      "Boite vitesse           bool\n",
      "Cylindrée            float64\n",
      "Puissance fiscale      int32\n",
      "Kilométrage          float64\n",
      "Age                  float64\n",
      "Essence                 bool\n",
      "Diesel                  bool\n",
      "Electric                bool\n",
      "dtype: object\n"
     ]
    }
   ],
   "source": [
    "print(df_concat.dtypes)"
   ]
  },
  {
   "cell_type": "code",
   "execution_count": 113,
   "metadata": {},
   "outputs": [
    {
     "name": "stdout",
     "output_type": "stream",
     "text": [
      "           Brand         Model  Price  Boite vitesse  Cylindrée  \\\n",
      "0     Alfa_Romeo        Giulia  198.0           True      1.995   \n",
      "1     Alfa_Romeo       Stelvio  265.0           True      1.995   \n",
      "2           Audi  A3_Sportback  145.0           True      1.395   \n",
      "3           Audi    A3_Berline  149.0           True      1.395   \n",
      "4           Audi            A4  198.0           True      1.984   \n",
      "...          ...           ...    ...            ...        ...   \n",
      "4941   Ssangyong         Kyron   38.0           True      3.000   \n",
      "4942      Autres        Autres   50.0          False      1.600   \n",
      "4943     Peugeot           206   18.0          False      2.400   \n",
      "4944     Citroen            C4   35.0          False      1.600   \n",
      "4945  Mitsubishi        Canter   40.0          False      1.200   \n",
      "\n",
      "      Puissance fiscale  Kilométrage   Age  Essence  Diesel  Electric  \n",
      "0                    11          0.0   0.0     True   False     False  \n",
      "1                    17          0.0   0.0     True   False     False  \n",
      "2                     8          0.0   0.0     True   False     False  \n",
      "3                     8          0.0   0.0     True   False     False  \n",
      "4                     8          0.0   0.0     True   False     False  \n",
      "...                 ...          ...   ...      ...     ...       ...  \n",
      "4941                 10        144.9  12.0    False    True     False  \n",
      "4942                  7        112.5  12.0     True   False     False  \n",
      "4943                  4        199.0  22.0     True   False     False  \n",
      "4944                  5        299.0  11.0    False    True     False  \n",
      "4945                  4         30.2   2.0     True   False     False  \n",
      "\n",
      "[4854 rows x 11 columns]\n"
     ]
    }
   ],
   "source": [
    "print(df_concat)"
   ]
  },
  {
   "cell_type": "code",
   "execution_count": 114,
   "metadata": {},
   "outputs": [],
   "source": [
    "# Save the DataFrame back to the same CSV, overwriting the original file\n",
    "#df_concat.to_csv(file_path_resultat, index=False)"
   ]
  }
 ],
 "metadata": {
  "kernelspec": {
   "display_name": "ML",
   "language": "python",
   "name": "python3"
  },
  "language_info": {
   "codemirror_mode": {
    "name": "ipython",
    "version": 3
   },
   "file_extension": ".py",
   "mimetype": "text/x-python",
   "name": "python",
   "nbconvert_exporter": "python",
   "pygments_lexer": "ipython3",
   "version": "3.8.20"
  }
 },
 "nbformat": 4,
 "nbformat_minor": 2
}
